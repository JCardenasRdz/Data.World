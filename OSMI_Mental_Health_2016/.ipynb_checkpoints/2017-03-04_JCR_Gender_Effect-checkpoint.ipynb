{
 "cells": [
  {
   "cell_type": "markdown",
   "metadata": {},
   "source": [
    "# Does gender affect the mental health status?\n",
    "### **Author**: Julio Cárdenas-Rodríguez, [@julio](https://data.world/julio)\n",
    "### License: MIT"
   ]
  },
  {
   "cell_type": "code",
   "execution_count": 1,
   "metadata": {
    "collapsed": true
   },
   "outputs": [],
   "source": [
    "# modules and authors\n",
    "%matplotlib inline\n",
    "import pandas as pd\n",
    "import matplotlib.pyplot as plt"
   ]
  },
  {
   "cell_type": "code",
   "execution_count": 2,
   "metadata": {
    "collapsed": false
   },
   "outputs": [],
   "source": [
    "# load\n",
    "df = pd.read_csv('https://query.data.world/s/bs6aqtm2l54gty0ng1vsgw37k')\n",
    "# Get columns we need\n",
    "df_status_gender = df[['Do you currently have a mental health disorder?','What is your gender?']].copy()\n",
    "# rename the columns\n",
    "df_status_gender.columns = ['Status','Gender']"
   ]
  },
  {
   "cell_type": "markdown",
   "metadata": {},
   "source": [
    "## Clean Gender Strings"
   ]
  },
  {
   "cell_type": "code",
   "execution_count": 3,
   "metadata": {
    "collapsed": false
   },
   "outputs": [],
   "source": [
    "import Tools\n",
    "df_status_gender = Tools.clean_gender(df_status_gender)"
   ]
  },
  {
   "cell_type": "markdown",
   "metadata": {},
   "source": [
    "## Case 1:  Mental Health ==> Three Levels,    Gender ==> Two Levels"
   ]
  },
  {
   "cell_type": "code",
   "execution_count": 4,
   "metadata": {
    "collapsed": false
   },
   "outputs": [
    {
     "data": {
      "text/html": [
       "<div>\n",
       "<table border=\"1\" class=\"dataframe\">\n",
       "  <thead>\n",
       "    <tr style=\"text-align: right;\">\n",
       "      <th>Do you currently have a mental health disorder?</th>\n",
       "      <th>Maybe</th>\n",
       "      <th>No</th>\n",
       "      <th>Yes</th>\n",
       "    </tr>\n",
       "    <tr>\n",
       "      <th>Gender</th>\n",
       "      <th></th>\n",
       "      <th></th>\n",
       "      <th></th>\n",
       "    </tr>\n",
       "  </thead>\n",
       "  <tbody>\n",
       "    <tr>\n",
       "      <th>Female</th>\n",
       "      <td>56</td>\n",
       "      <td>97</td>\n",
       "      <td>176</td>\n",
       "    </tr>\n",
       "    <tr>\n",
       "      <th>Male</th>\n",
       "      <td>259</td>\n",
       "      <td>423</td>\n",
       "      <td>361</td>\n",
       "    </tr>\n",
       "  </tbody>\n",
       "</table>\n",
       "</div>"
      ],
      "text/plain": [
       "Do you currently have a mental health disorder?  Maybe   No  Yes\n",
       "Gender                                                          \n",
       "Female                                              56   97  176\n",
       "Male                                               259  423  361"
      ]
     },
     "execution_count": 4,
     "metadata": {},
     "output_type": "execute_result"
    }
   ],
   "source": [
    "# keep on Female and Male (Analysis is easier)\n",
    "idx1 = (df_status_gender['Gender']=='Female') | (df_status_gender['Gender']=='Male')\n",
    "df1 = df_status_gender[idx1]\n",
    "\n",
    "#Create Contigency Table\n",
    "Cont_Table = pd.crosstab(pd.Categorical(df1.Gender),pd.Categorical(df1.Status))\n",
    "Cont_Table.index.name = 'Gender'\n",
    "Cont_Table.columns.name = 'Do you currently have a mental health disorder?'\n",
    "Cont_Table"
   ]
  },
  {
   "cell_type": "code",
   "execution_count": 5,
   "metadata": {
    "collapsed": false
   },
   "outputs": [
    {
     "data": {
      "text/plain": [
       "<matplotlib.axes._subplots.AxesSubplot at 0x114df5710>"
      ]
     },
     "execution_count": 5,
     "metadata": {},
     "output_type": "execute_result"
    },
    {
     "data": {
      "image/png": "[encoded data removed]",
      "text/plain": [
       "<matplotlib.figure.Figure at 0x112198518>"
      ]
     },
     "metadata": {},
     "output_type": "display_data"
    }
   ],
   "source": [
    "Cont_Table.plot.barh()"
   ]
  },
  {
   "cell_type": "code",
   "execution_count": 6,
   "metadata": {
    "collapsed": false
   },
   "outputs": [
    {
     "name": "stdout",
     "output_type": "stream",
     "text": [
      "Case 1\n",
      "========================================\n",
      "The p-value is : 7.10906559355e-09\n",
      "========================================\n",
      "The test statistic is : 37.5237900464\n",
      "========================================\n",
      "The expected distribution is :\n",
      "[[  76.  125.  129.]\n",
      " [ 239.  395.  408.]]\n",
      "========================================\n"
     ]
    }
   ],
   "source": [
    "# Perform Statistical Test\n",
    "Tools.my_chi2(Cont_Table.values,'Case 1')"
   ]
  },
  {
   "cell_type": "markdown",
   "metadata": {},
   "source": [
    "## Case 2:  Mental Health ==> Two Levels,    Gender ==> Two Levels"
   ]
  },
  {
   "cell_type": "code",
   "execution_count": 7,
   "metadata": {
    "collapsed": false
   },
   "outputs": [
    {
     "data": {
      "text/html": [
       "<div>\n",
       "<table border=\"1\" class=\"dataframe\">\n",
       "  <thead>\n",
       "    <tr style=\"text-align: right;\">\n",
       "      <th>Do you currently have a mental health disorder?</th>\n",
       "      <th>No</th>\n",
       "      <th>Yes</th>\n",
       "    </tr>\n",
       "    <tr>\n",
       "      <th>Gender</th>\n",
       "      <th></th>\n",
       "      <th></th>\n",
       "    </tr>\n",
       "  </thead>\n",
       "  <tbody>\n",
       "    <tr>\n",
       "      <th>Female</th>\n",
       "      <td>97</td>\n",
       "      <td>176</td>\n",
       "    </tr>\n",
       "    <tr>\n",
       "      <th>Male</th>\n",
       "      <td>423</td>\n",
       "      <td>361</td>\n",
       "    </tr>\n",
       "  </tbody>\n",
       "</table>\n",
       "</div>"
      ],
      "text/plain": [
       "Do you currently have a mental health disorder?   No  Yes\n",
       "Gender                                                   \n",
       "Female                                            97  176\n",
       "Male                                             423  361"
      ]
     },
     "execution_count": 7,
     "metadata": {},
     "output_type": "execute_result"
    }
   ],
   "source": [
    "idx2 = (df_status_gender['Status']=='Yes') | (df_status_gender['Status']=='No')\n",
    "df2 = df_status_gender[idx2]\n",
    "\n",
    "idx3 = (df2['Gender']=='Female') | (df2['Gender']=='Male')\n",
    "df2 = df2[idx3]\n",
    "\n",
    "#Create Contigency Table\n",
    "Cont_Table = pd.crosstab(pd.Categorical(df2.Gender),pd.Categorical(df2.Status))\n",
    "Cont_Table.index.name = 'Gender'\n",
    "Cont_Table.columns.name = 'Do you currently have a mental health disorder?'\n",
    "Cont_Table"
   ]
  },
  {
   "cell_type": "code",
   "execution_count": 8,
   "metadata": {
    "collapsed": false
   },
   "outputs": [
    {
     "data": {
      "text/plain": [
       "<matplotlib.axes._subplots.AxesSubplot at 0x118e32be0>"
      ]
     },
     "execution_count": 8,
     "metadata": {},
     "output_type": "execute_result"
    },
    {
     "data": {
      "image/png": "[encoded data removed]",
      "text/plain": [
       "<matplotlib.figure.Figure at 0x11270e6d8>"
      ]
     },
     "metadata": {},
     "output_type": "display_data"
    }
   ],
   "source": [
    "Cont_Table.plot.barh()"
   ]
  },
  {
   "cell_type": "code",
   "execution_count": 9,
   "metadata": {
    "collapsed": false
   },
   "outputs": [
    {
     "name": "stdout",
     "output_type": "stream",
     "text": [
      "Case 2\n",
      "========================================\n",
      "The p-value is : 2.29714216907e-07\n",
      "========================================\n",
      "The test statistic is : 26.7653958624\n",
      "========================================\n",
      "The expected distribution is :\n",
      "[[ 134.  139.]\n",
      " [ 386.  398.]]\n",
      "========================================\n"
     ]
    }
   ],
   "source": [
    "# Perform Statistical Test\n",
    "Tools.my_chi2(Cont_Table.values,'Case 2')"
   ]
  },
  {
   "cell_type": "markdown",
   "metadata": {},
   "source": [
    "## Conclusion"
   ]
  },
  {
   "cell_type": "markdown",
   "metadata": {},
   "source": [
    "#The status of current diagnosis of mental health **IS** affected by gender"
   ]
  }
 ],
 "metadata": {
  "anaconda-cloud": {},
  "kernelspec": {
   "display_name": "Python [default]",
   "language": "python",
   "name": "python3"
  },
  "language_info": {
   "codemirror_mode": {
    "name": "ipython",
    "version": 3
   },
   "file_extension": ".py",
   "mimetype": "text/x-python",
   "name": "python",
   "nbconvert_exporter": "python",
   "pygments_lexer": "ipython3",
   "version": "3.5.2"
  }
 },
 "nbformat": 4,
 "nbformat_minor": 2
}
