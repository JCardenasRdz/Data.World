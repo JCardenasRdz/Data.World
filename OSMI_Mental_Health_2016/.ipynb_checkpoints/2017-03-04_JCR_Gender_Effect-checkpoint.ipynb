{
 "cells": [
  {
   "cell_type": "markdown",
   "metadata": {},
   "source": [
    "# Does gender affect the mental health status?\n",
    "### **Author**: Julio Cárdenas-Rodríguez, [@julio](https://data.world/julio)\n",
    "### License: MIT"
   ]
  },
  {
   "cell_type": "code",
   "execution_count": 1,
   "metadata": {
    "collapsed": true
   },
   "outputs": [],
   "source": [
    "# modules and authors\n",
    "%matplotlib inline\n",
    "import pandas as pd\n",
    "import matplotlib.pyplot as plt\n",
    "import numpy as np"
   ]
  },
  {
   "cell_type": "code",
   "execution_count": 2,
   "metadata": {
    "collapsed": false
   },
   "outputs": [],
   "source": [
    "import Tools"
   ]
  },
  {
   "cell_type": "code",
   "execution_count": 3,
   "metadata": {
    "collapsed": false
   },
   "outputs": [
    {
     "data": {
      "text/html": [
       "<div>\n",
       "<table border=\"1\" class=\"dataframe\">\n",
       "  <thead>\n",
       "    <tr style=\"text-align: right;\">\n",
       "      <th></th>\n",
       "      <th>Status</th>\n",
       "      <th>Gender</th>\n",
       "      <th>Country</th>\n",
       "    </tr>\n",
       "  </thead>\n",
       "  <tbody>\n",
       "    <tr>\n",
       "      <th>0</th>\n",
       "      <td>No</td>\n",
       "      <td>Male</td>\n",
       "      <td>United Kingdom</td>\n",
       "    </tr>\n",
       "  </tbody>\n",
       "</table>\n",
       "</div>"
      ],
      "text/plain": [
       "  Status Gender         Country\n",
       "0     No   Male  United Kingdom"
      ]
     },
     "execution_count": 3,
     "metadata": {},
     "output_type": "execute_result"
    }
   ],
   "source": [
    "# Get data\n",
    "df = Tools.get_data();\n",
    "# Clean data\n",
    "df = Tools.clean_gender(df);\n",
    "df = df[['Do you currently have a mental health disorder?','What is your gender?','What country do you live in?']].copy()\n",
    "# rename the columns\n",
    "df.columns = ['Status','Gender','Country'];\n",
    "df = df[(df.Gender=='Male')| (df['Gender']=='Female')]\n",
    "df.head(1)"
   ]
  },
  {
   "cell_type": "markdown",
   "metadata": {},
   "source": [
    "### How many female responders per country?"
   ]
  },
  {
   "cell_type": "code",
   "execution_count": 4,
   "metadata": {
    "collapsed": false
   },
   "outputs": [
    {
     "data": {
      "text/plain": [
       "United States of America    244\n",
       "United Kingdom               28\n",
       "Canada                       21\n",
       "Australia                     7\n",
       "Germany                       6\n",
       "Name: Country, dtype: int64"
      ]
     },
     "execution_count": 4,
     "metadata": {},
     "output_type": "execute_result"
    }
   ],
   "source": [
    "df[df.Gender=='Female'].Country.value_counts().iloc[:5]"
   ]
  },
  {
   "cell_type": "markdown",
   "metadata": {},
   "source": [
    "### How many male responders per country?"
   ]
  },
  {
   "cell_type": "code",
   "execution_count": 5,
   "metadata": {
    "collapsed": false
   },
   "outputs": [
    {
     "data": {
      "text/plain": [
       "United States of America    559\n",
       "United Kingdom              142\n",
       "Canada                       52\n",
       "Germany                      49\n",
       "Netherlands                  41\n",
       "Name: Country, dtype: int64"
      ]
     },
     "execution_count": 5,
     "metadata": {},
     "output_type": "execute_result"
    }
   ],
   "source": [
    "df[df.Gender=='Male'].Country.value_counts().iloc[:5]"
   ]
  },
  {
   "cell_type": "markdown",
   "metadata": {},
   "source": [
    "## Case 1 USA:  Mental Health ==> Three Levels,    Gender ==> Two Levels"
   ]
  },
  {
   "cell_type": "code",
   "execution_count": 6,
   "metadata": {
    "collapsed": false
   },
   "outputs": [
    {
     "name": "stdout",
     "output_type": "stream",
     "text": [
      "USA only Three Levels\n",
      "========================================\n",
      "The p-value is : 1.17679905463e-05\n",
      "========================================\n",
      "The test statistic is : 22.700254756\n",
      "========================================\n",
      "The expected distribution is :\n",
      "[[  53.   79.  112.]\n",
      " [ 121.  181.  257.]]\n",
      "========================================\n"
     ]
    },
    {
     "data": {
      "image/png": "[encoded data removed]",
      "text/plain": [
       "<matplotlib.figure.Figure at 0x111f89390>"
      ]
     },
     "metadata": {},
     "output_type": "display_data"
    }
   ],
   "source": [
    "# keep on Female and Male (Analysis is easier)\n",
    "df_USA= df[df.Country=='United States of America'].copy()\n",
    "\n",
    "#Create Contigency Table\n",
    "Cont_Table = pd.crosstab(pd.Categorical(df_USA.Gender),pd.Categorical(df_USA.Status))\n",
    "Cont_Table.index.name = 'Gender'\n",
    "Cont_Table.columns.name = 'Do you currently have a mental health disorder?'\n",
    "Cont_Table\n",
    "# Plot table \n",
    "plt.style.use('ggplot')\n",
    "Cont_Table.plot.barh()\n",
    "# Perform Statistical Test\n",
    "Tools.my_chi2(Cont_Table.values,'USA only Three Levels')"
   ]
  },
  {
   "cell_type": "markdown",
   "metadata": {},
   "source": [
    "## Case 2:  Mental Health ==> Two Levels,    Gender ==> Two Levels"
   ]
  },
  {
   "cell_type": "code",
   "execution_count": 7,
   "metadata": {
    "collapsed": false
   },
   "outputs": [
    {
     "name": "stdout",
     "output_type": "stream",
     "text": [
      "USA only Two Levels\n",
      "========================================\n",
      "The p-value is : 3.16101955992e-05\n",
      "========================================\n",
      "The test statistic is : 17.3184551935\n",
      "========================================\n",
      "The expected distribution is :\n",
      "[[  83.  119.]\n",
      " [ 177.  250.]]\n",
      "========================================\n"
     ]
    },
    {
     "data": {
      "image/png": "[encoded data removed]",
      "text/plain": [
       "<matplotlib.figure.Figure at 0x111ff0668>"
      ]
     },
     "metadata": {},
     "output_type": "display_data"
    }
   ],
   "source": [
    "idx2 = (df_USA['Status']=='Yes') | (df_USA['Status']=='No')\n",
    "df2 = df_USA[idx2].copy()\n",
    "\n",
    "#Create Contigency Table\n",
    "Cont_Table = pd.crosstab(pd.Categorical(df2.Gender),pd.Categorical(df2.Status))\n",
    "Cont_Table.index.name = 'Gender'\n",
    "Cont_Table.columns.name = 'Do you currently have a mental health disorder?'\n",
    "Cont_Table\n",
    "Cont_Table.plot.barh();\n",
    "# Perform Statistical Test\n",
    "Tools.my_chi2(Cont_Table.values,'USA only Two Levels')"
   ]
  },
  {
   "cell_type": "markdown",
   "metadata": {
    "collapsed": false
   },
   "source": [
    "## Case 3 UK:  Mental Health ==> Three Levels,    Gender ==> Two Levels"
   ]
  },
  {
   "cell_type": "code",
   "execution_count": 8,
   "metadata": {
    "collapsed": false
   },
   "outputs": [
    {
     "name": "stdout",
     "output_type": "stream",
     "text": [
      "United Kingdom only Three Levels\n",
      "========================================\n",
      "The p-value is : 0.166993171619\n",
      "========================================\n",
      "The test statistic is : 3.57960471182\n",
      "========================================\n",
      "The expected distribution is :\n",
      "[[  7.  11.  10.]\n",
      " [ 35.  58.  49.]]\n",
      "========================================\n"
     ]
    },
    {
     "data": {
      "text/html": [
       "<div>\n",
       "<table border=\"1\" class=\"dataframe\">\n",
       "  <thead>\n",
       "    <tr style=\"text-align: right;\">\n",
       "      <th>Do you currently have a mental health disorder?</th>\n",
       "      <th>Maybe</th>\n",
       "      <th>No</th>\n",
       "      <th>Yes</th>\n",
       "    </tr>\n",
       "    <tr>\n",
       "      <th>Gender</th>\n",
       "      <th></th>\n",
       "      <th></th>\n",
       "      <th></th>\n",
       "    </tr>\n",
       "  </thead>\n",
       "  <tbody>\n",
       "    <tr>\n",
       "      <th>Female</th>\n",
       "      <td>3</td>\n",
       "      <td>13</td>\n",
       "      <td>12</td>\n",
       "    </tr>\n",
       "    <tr>\n",
       "      <th>Male</th>\n",
       "      <td>39</td>\n",
       "      <td>56</td>\n",
       "      <td>47</td>\n",
       "    </tr>\n",
       "  </tbody>\n",
       "</table>\n",
       "</div>"
      ],
      "text/plain": [
       "Do you currently have a mental health disorder?  Maybe  No  Yes\n",
       "Gender                                                         \n",
       "Female                                               3  13   12\n",
       "Male                                                39  56   47"
      ]
     },
     "execution_count": 8,
     "metadata": {},
     "output_type": "execute_result"
    },
    {
     "data": {
      "image/png": "[encoded data removed]",
      "text/plain": [
       "<matplotlib.figure.Figure at 0x11519f860>"
      ]
     },
     "metadata": {},
     "output_type": "display_data"
    }
   ],
   "source": [
    "df_UK= df[df.Country=='United Kingdom'].copy()\n",
    "\n",
    "#Create Contigency Table\n",
    "Cont_Table = pd.crosstab(pd.Categorical(df_UK.Gender),pd.Categorical(df_UK.Status))\n",
    "Cont_Table.index.name = 'Gender'\n",
    "Cont_Table.columns.name = 'Do you currently have a mental health disorder?'\n",
    "# Plot table \n",
    "plt.style.use('ggplot')\n",
    "Cont_Table.plot.barh()\n",
    "# Perform Statistical Test\n",
    "Tools.my_chi2(Cont_Table.values,'United Kingdom only Three Levels')\n",
    "Cont_Table"
   ]
  },
  {
   "cell_type": "markdown",
   "metadata": {},
   "source": [
    "## Case 4 UK:  Mental Health ==> Two Levels,    Gender ==> Two Levels"
   ]
  },
  {
   "cell_type": "code",
   "execution_count": 9,
   "metadata": {
    "collapsed": false
   },
   "outputs": [
    {
     "name": "stdout",
     "output_type": "stream",
     "text": [
      "USA only Two Levels\n",
      "========================================\n",
      "The p-value is : 0.991635900727\n",
      "========================================\n",
      "The test statistic is : 0.000109894040967\n",
      "========================================\n",
      "The expected distribution is :\n",
      "[[ 13.  12.]\n",
      " [ 56.  47.]]\n",
      "========================================\n"
     ]
    },
    {
     "data": {
      "text/html": [
       "<div>\n",
       "<table border=\"1\" class=\"dataframe\">\n",
       "  <thead>\n",
       "    <tr style=\"text-align: right;\">\n",
       "      <th>Do you currently have a mental health disorder?</th>\n",
       "      <th>No</th>\n",
       "      <th>Yes</th>\n",
       "    </tr>\n",
       "    <tr>\n",
       "      <th>Gender</th>\n",
       "      <th></th>\n",
       "      <th></th>\n",
       "    </tr>\n",
       "  </thead>\n",
       "  <tbody>\n",
       "    <tr>\n",
       "      <th>Female</th>\n",
       "      <td>13</td>\n",
       "      <td>12</td>\n",
       "    </tr>\n",
       "    <tr>\n",
       "      <th>Male</th>\n",
       "      <td>56</td>\n",
       "      <td>47</td>\n",
       "    </tr>\n",
       "  </tbody>\n",
       "</table>\n",
       "</div>"
      ],
      "text/plain": [
       "Do you currently have a mental health disorder?  No  Yes\n",
       "Gender                                                  \n",
       "Female                                           13   12\n",
       "Male                                             56   47"
      ]
     },
     "execution_count": 9,
     "metadata": {},
     "output_type": "execute_result"
    },
    {
     "data": {
      "image/png": "[encoded data removed]",
      "text/plain": [
       "<matplotlib.figure.Figure at 0x119104630>"
      ]
     },
     "metadata": {},
     "output_type": "display_data"
    }
   ],
   "source": [
    "idx2 = (df_UK['Status']=='Yes') | (df_UK['Status']=='No')\n",
    "df2 = df_UK[idx2].copy()\n",
    "\n",
    "#Create Contigency Table\n",
    "Cont_Table = pd.crosstab(pd.Categorical(df2.Gender),pd.Categorical(df2.Status))\n",
    "Cont_Table.index.name = 'Gender'\n",
    "Cont_Table.columns.name = 'Do you currently have a mental health disorder?'\n",
    "Cont_Table.plot.barh();\n",
    "# Perform Statistical Test\n",
    "Tools.my_chi2(Cont_Table.values,'USA only Two Levels')\n",
    "Cont_Table"
   ]
  },
  {
   "cell_type": "markdown",
   "metadata": {},
   "source": [
    "## Case 5 Canada:  Mental Health ==> Three Levels,    Gender ==> Two Levels"
   ]
  },
  {
   "cell_type": "code",
   "execution_count": 10,
   "metadata": {
    "collapsed": false
   },
   "outputs": [
    {
     "name": "stdout",
     "output_type": "stream",
     "text": [
      "df_Canada only Three Levels\n",
      "========================================\n",
      "The p-value is : 0.774481675645\n",
      "========================================\n",
      "The test statistic is : 0.511122557998\n",
      "========================================\n",
      "The expected distribution is :\n",
      "[[  5.  10.   6.]\n",
      " [ 11.  26.  15.]]\n",
      "========================================\n"
     ]
    },
    {
     "data": {
      "text/html": [
       "<div>\n",
       "<table border=\"1\" class=\"dataframe\">\n",
       "  <thead>\n",
       "    <tr style=\"text-align: right;\">\n",
       "      <th>Do you currently have a mental health disorder?</th>\n",
       "      <th>Maybe</th>\n",
       "      <th>No</th>\n",
       "      <th>Yes</th>\n",
       "    </tr>\n",
       "    <tr>\n",
       "      <th>Gender</th>\n",
       "      <th></th>\n",
       "      <th></th>\n",
       "      <th></th>\n",
       "    </tr>\n",
       "  </thead>\n",
       "  <tbody>\n",
       "    <tr>\n",
       "      <th>Female</th>\n",
       "      <td>5</td>\n",
       "      <td>9</td>\n",
       "      <td>7</td>\n",
       "    </tr>\n",
       "    <tr>\n",
       "      <th>Male</th>\n",
       "      <td>11</td>\n",
       "      <td>27</td>\n",
       "      <td>14</td>\n",
       "    </tr>\n",
       "  </tbody>\n",
       "</table>\n",
       "</div>"
      ],
      "text/plain": [
       "Do you currently have a mental health disorder?  Maybe  No  Yes\n",
       "Gender                                                         \n",
       "Female                                               5   9    7\n",
       "Male                                                11  27   14"
      ]
     },
     "execution_count": 10,
     "metadata": {},
     "output_type": "execute_result"
    },
    {
     "data": {
      "image/png": "[encoded data removed]",
      "text/plain": [
       "<matplotlib.figure.Figure at 0x119173be0>"
      ]
     },
     "metadata": {},
     "output_type": "display_data"
    }
   ],
   "source": [
    "df_Canada= df[df.Country=='Canada'].copy()\n",
    "\n",
    "#Create Contigency Table\n",
    "Cont_Table = pd.crosstab(pd.Categorical(df_Canada.Gender),pd.Categorical(df_Canada.Status))\n",
    "Cont_Table.index.name = 'Gender'\n",
    "Cont_Table.columns.name = 'Do you currently have a mental health disorder?'\n",
    "# Plot table \n",
    "plt.style.use('ggplot')\n",
    "Cont_Table.plot.barh()\n",
    "# Perform Statistical Test\n",
    "Tools.my_chi2(Cont_Table.values,'df_Canada only Three Levels')\n",
    "Cont_Table"
   ]
  },
  {
   "cell_type": "markdown",
   "metadata": {},
   "source": [
    "## Case 6 Canada:  Mental Health ==> Two Levels,    Gender ==> Two Levels"
   ]
  },
  {
   "cell_type": "code",
   "execution_count": 11,
   "metadata": {
    "collapsed": false
   },
   "outputs": [
    {
     "name": "stdout",
     "output_type": "stream",
     "text": [
      "Canada only Two Levels\n",
      "========================================\n",
      "The p-value is : 0.71148278326\n",
      "========================================\n",
      "The test statistic is : 0.136800413763\n",
      "========================================\n",
      "The expected distribution is :\n",
      "[[ 10.   6.]\n",
      " [ 26.  15.]]\n",
      "========================================\n"
     ]
    },
    {
     "data": {
      "text/html": [
       "<div>\n",
       "<table border=\"1\" class=\"dataframe\">\n",
       "  <thead>\n",
       "    <tr style=\"text-align: right;\">\n",
       "      <th>Do you currently have a mental health disorder?</th>\n",
       "      <th>No</th>\n",
       "      <th>Yes</th>\n",
       "    </tr>\n",
       "    <tr>\n",
       "      <th>Gender</th>\n",
       "      <th></th>\n",
       "      <th></th>\n",
       "    </tr>\n",
       "  </thead>\n",
       "  <tbody>\n",
       "    <tr>\n",
       "      <th>Female</th>\n",
       "      <td>9</td>\n",
       "      <td>7</td>\n",
       "    </tr>\n",
       "    <tr>\n",
       "      <th>Male</th>\n",
       "      <td>27</td>\n",
       "      <td>14</td>\n",
       "    </tr>\n",
       "  </tbody>\n",
       "</table>\n",
       "</div>"
      ],
      "text/plain": [
       "Do you currently have a mental health disorder?  No  Yes\n",
       "Gender                                                  \n",
       "Female                                            9    7\n",
       "Male                                             27   14"
      ]
     },
     "execution_count": 11,
     "metadata": {},
     "output_type": "execute_result"
    },
    {
     "data": {
      "image/png": "[encoded data removed]",
      "text/plain": [
       "<matplotlib.figure.Figure at 0x1191a7710>"
      ]
     },
     "metadata": {},
     "output_type": "display_data"
    }
   ],
   "source": [
    "idx2 = (df_Canada['Status']=='Yes') | (df_Canada['Status']=='No')\n",
    "df2 = df_Canada[idx2].copy()\n",
    "\n",
    "#Create Contigency Table\n",
    "Cont_Table = pd.crosstab(pd.Categorical(df2.Gender),pd.Categorical(df2.Status))\n",
    "Cont_Table.index.name = 'Gender'\n",
    "Cont_Table.columns.name = 'Do you currently have a mental health disorder?'\n",
    "Cont_Table.plot.barh();\n",
    "# Perform Statistical Test\n",
    "Tools.my_chi2(Cont_Table.values,'Canada only Two Levels')\n",
    "Cont_Table"
   ]
  },
  {
   "cell_type": "markdown",
   "metadata": {},
   "source": [
    "#The status of current diagnosis of mental health **IS** affected by gender"
   ]
  }
 ],
 "metadata": {
  "anaconda-cloud": {},
  "kernelspec": {
   "display_name": "Python [default]",
   "language": "python",
   "name": "python3"
  },
  "language_info": {
   "codemirror_mode": {
    "name": "ipython",
    "version": 3
   },
   "file_extension": ".py",
   "mimetype": "text/x-python",
   "name": "python",
   "nbconvert_exporter": "python",
   "pygments_lexer": "ipython3",
   "version": "3.5.2"
  }
 },
 "nbformat": 4,
 "nbformat_minor": 2
}
